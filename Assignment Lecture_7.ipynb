{
 "cells": [
  {
   "cell_type": "code",
   "execution_count": 2,
   "id": "2e75d4c9",
   "metadata": {},
   "outputs": [],
   "source": [
    "import numpy as np\n",
    "from collections import Counter  "
   ]
  },
  {
   "cell_type": "code",
   "execution_count": 3,
   "id": "78b00474",
   "metadata": {},
   "outputs": [
    {
     "name": "stdout",
     "output_type": "stream",
     "text": [
      "Most repeated number(s): [5, 2]\n",
      "Count: 7\n"
     ]
    }
   ],
   "source": [
    "# Define the array\n",
    "arr = np.array(   [[5, 5, 5, 5, 5],\n",
    "                  [3, 5, 2, 9, 2],\n",
    "                  [1, 2, 2, 5, 2],\n",
    "                  [1, 2, 3, 4, 9],\n",
    "                  [2, 3, 4, 6, 7]])\n",
    "\n",
    "# Flatten the array to 1D\n",
    "arr_flat = arr.flatten()\n",
    "\n",
    "# Use Counter to count occurrences of each number\n",
    "number_counts = Counter(arr_flat)\n",
    "\n",
    "# Find the number(s) with the maximum count\n",
    "max_count = max(number_counts.values())\n",
    "most_repeated_numbers = [num for num, count in number_counts.items() if count == max_count]\n",
    "\n",
    "print(\"Most repeated number(s):\", most_repeated_numbers)\n",
    "print(\"Count:\", max_count)"
   ]
  }
 ],
 "metadata": {
  "kernelspec": {
   "display_name": "Python 3 (ipykernel)",
   "language": "python",
   "name": "python3"
  },
  "language_info": {
   "codemirror_mode": {
    "name": "ipython",
    "version": 3
   },
   "file_extension": ".py",
   "mimetype": "text/x-python",
   "name": "python",
   "nbconvert_exporter": "python",
   "pygments_lexer": "ipython3",
   "version": "3.11.5"
  }
 },
 "nbformat": 4,
 "nbformat_minor": 5
}
